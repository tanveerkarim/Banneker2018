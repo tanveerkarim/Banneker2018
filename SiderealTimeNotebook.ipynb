{
 "cells": [
  {
   "cell_type": "markdown",
   "metadata": {},
   "source": [
    "## Banneker & Aztlan Institute\n",
    "### Harvard University\n",
    "### Prepared by: Tanveer Karim\n",
    "### Summer 2018"
   ]
  },
  {
   "cell_type": "markdown",
   "metadata": {},
   "source": [
    "### Background\n",
    "\n",
    "As we discussed in class, the definition of a day is relative and depends on what you use as a reference point. There are broadly two types of days:\n",
    "\n",
    "  - **Solar Day**: Measuring day from noon to noon, i.e. when Sun is at the meridian. The mean solar day is defined to be 24hr and is used for everyday usage.\n",
    "  - **Sidereal Day**: Measuring day from transit of stars from midnight to midnight, i.e. when a reference star crosses the meridian. The mean sidereal day is roughly 23hr 56m 4.09s. \n",
    "\n",
    "Since the sidereal day and the solar day differs from each other by $\\approx 4$ minutes every solar day, we see that the sidereal time drifts apart from the solar time by 2 hours every month because \n",
    "\n",
    "\\begin{align*}\n",
    "    \\left( \\frac{4 \\text{minutes}}{1 \\text{ solar day}} \\right) \\cdot 30 \\text{ solar day} &= 120 \\text{ minutes}  \\\\\n",
    "    &= 2 \\text{ hr}\n",
    "\\end{align*}\n",
    "\n",
    "Keep in mind that the two days are synchronised during the Vernal Equinox (VE), i.e. at noon on March 21st (or whichever date the VE is on depending on the year), the two days start out as 0. But as time progresses, the mean solar day keeps falling behind the sidereal day by 4 minutes every solar day which results in the aforementioned difference. We will now use these information to do a three-part exercise and construct our own sidereal time converter. Do not worry if you do not finish this today. We will come back to this on Day 3."
   ]
  },
  {
   "cell_type": "markdown",
   "metadata": {},
   "source": [
    "#### For those using Python 2.7, remember to make sure that you are not dividing two ints otherwise you may get weird results."
   ]
  },
  {
   "cell_type": "markdown",
   "metadata": {},
   "source": [
    "### Exercise 1: SiderealDiff.py\n",
    "\n",
    "In this exercise, we will figure out how much the present mean solar time differs from the sidereal time. \n",
    "\n",
    "#### Algorithm\n",
    "  - Figure out which date was the Vernal Equinox (VE) this year and what date it is today.\n",
    "  - Plug these two days into the US Navy Julian Date converter: http://aa.usno.navy.mil/data/docs/JulianDate.php.\n",
    "  - Store the value of the VE Julian Date as a constant in your function.\n",
    "  - Based on the converted Julian dates, determine how many *solar* days have elapsed since the (VE). Let us call this value $\\Delta$.\n",
    "  - If the mean solar day falls behind the sidereal day 4 minutes every solar day, how many minutes have we fallen behind the sidereal day since the VE? Let us call this value **DiffMins**.\n",
    "  - Convert **DiffMins** to hours. Call this **DiffHours**.\n",
    "  - Return **DiffHours**."
   ]
  },
  {
   "cell_type": "code",
   "execution_count": 1,
   "metadata": {},
   "outputs": [],
   "source": [
    "def SiderealDiff(Date):\n",
    "    \"\"\"\n",
    "    Parameters\n",
    "    ----------\n",
    "    Date: Enter the date in Julian Days using http://aa.usno.navy.mil/data/docs/JulianDate.php\n",
    "    \n",
    "    Returns\n",
    "    -------\n",
    "    DiffHours: Difference between the mean solar day and the sidereal day in units of hours\n",
    "    \"\"\"\n",
    "    \n",
    "    VEJulian = 2458198.000000 #Vernal Equinox was on March 20th in 2018.\n",
    "    \n",
    "    \"\"\"\n",
    "    Write your code here\n",
    "    \n",
    "    #Delta = \n",
    "    #DiffMins =\n",
    "    #DiffHours =\n",
    "    \"\"\"\n",
    "    \n",
    "    return DiffHours"
   ]
  },
  {
   "cell_type": "markdown",
   "metadata": {},
   "source": [
    "### Exercise 2: HMStoH.py\n",
    "In this exercise, we will convert time given in hours, minutes and seconds to decimal hours. This exercise is similar to what we did yesterday.\n",
    "\n",
    "#### Algorithm\n",
    "  - Convert minutes and seconds to decimal hours. How many minutes and seconds are there in an hour?\n",
    "  \n",
    "If you are stuck with this exercise, scroll all the way down for the solution."
   ]
  },
  {
   "cell_type": "code",
   "execution_count": 2,
   "metadata": {},
   "outputs": [],
   "source": [
    "def HMStoH(hour, minute, second):\n",
    "    \"\"\"\n",
    "    Write your code here\n",
    "    \n",
    "    #decimalmin =\n",
    "    #decimalsecs = \n",
    "    \"\"\"\n",
    "    \n",
    "    return hour + decimalmin + decimalsecs"
   ]
  },
  {
   "cell_type": "markdown",
   "metadata": {},
   "source": [
    "### Exercise 3: SiderealTime.py\n",
    "\n",
    "In this exercise, we will figure out what is the sidereal time now.\n",
    "\n",
    "#### Algorithm\n",
    "  - Take the current time (use the 24-hour military time, i.e. 1 PM is 13 hr) and convert it into decimal hours using HMStoH function. Remember that you can call one function inside another.\n",
    "  - What is the reference hour with respect to which we calculate day? Take the difference between this reference hour and the current hour. Call this **RefHourDiff**.\n",
    "  - Return the value for the current date in the function *SiderealDiff* and add that to **RefHourDiff**. Call this value **SiderealTime**.\n",
    "  - If **SiderealTime** is less than 0, set **SiderealTime** = **SiderealTime** + 24. Can you think of a reason why we need to do this?\n",
    "  - Else, simply return **SiderealTime**\n",
    "  \n",
    "  \n",
    "Now you have your own Sidereal Time calculator!\n",
    "\n",
    "**Caution: This code assumes no Daylight Savings Time. If you are currently in Daylight Savings, make sure to subtract the extra hour otherwise you will be off by an hour.**\n"
   ]
  },
  {
   "cell_type": "code",
   "execution_count": 3,
   "metadata": {},
   "outputs": [],
   "source": [
    "def SiderealTime(hour, minute, second, Date):\n",
    "    \n",
    "    decimalTime = HMStoH(hour, minute, second)\n",
    "    #RefHourDiff = \n",
    "    \n",
    "    #SiderealTime = \n",
    "    \n",
    "    #if:\n",
    "        #statement\n",
    "    #else:\n",
    "        #statement"
   ]
  },
  {
   "cell_type": "markdown",
   "metadata": {},
   "source": [
    "### Exercise 4: DecimalHtoHMS.py\n",
    "\n",
    "Finally, in this exercise we will take a decimal hour value and convert it back to our usualy hour, minutes and seconds.\n",
    "\n",
    "#### Algorithm\n",
    "  - Take the decimal hour as an input. Isolate the hour value and store it as **hour**. This can be done using the floor function from the numpy package. For example, np.floor(18.5) = 18.\n",
    "  - Subtract the hour value from the decimal hour. Store this as a variable **diff**.\n",
    "  - Multiply **diff** with 60 (since there are 60 minutes per hour) and store it in **diff**.\n",
    "  - Take the floor value of **diff** and store it as **minute**.\n",
    "  - Now, subtract **minute** from **diff** and save it in **diff**.\n",
    "  - Finally, multiply **diff** with 60 and store it as **second**.\n",
    "  \n",
    "Now you have a complete script that you can use to check Local Sidereal Time! If this part of the exercise is too confusing, look for solution below."
   ]
  },
  {
   "cell_type": "code",
   "execution_count": 4,
   "metadata": {},
   "outputs": [],
   "source": [
    "def DecimalHtoHMS(decimal_hour):\n",
    "    import numpy as np\n",
    "    \n",
    "    #hour = np.floor(decimal_hour)\n",
    "    \"\"\"Write your code here\"\"\"\n",
    "        \n",
    "    return str(np.int(hour)) +'hr' + str(np.int(minute)) + 'm' + str(np.int(second)) + 's'"
   ]
  },
  {
   "cell_type": "markdown",
   "metadata": {},
   "source": [
    "Go the website http://www.jgiesen.de/astro/astroJS/siderealClock/, selection Boston from the location tab and then check different dates and times and see how your script performs."
   ]
  },
  {
   "cell_type": "markdown",
   "metadata": {},
   "source": [
    "# ----------------------------------------------------------------------------------------"
   ]
  },
  {
   "cell_type": "markdown",
   "metadata": {},
   "source": [
    "## Solution"
   ]
  },
  {
   "cell_type": "code",
   "execution_count": 5,
   "metadata": {},
   "outputs": [],
   "source": [
    "def HMStoH(hour, minute, second):\n",
    "    \n",
    "    decimalmin = minute/60\n",
    "    decimalsecs = second/3600\n",
    "    \n",
    "    return hour + decimalmin + decimalsecs"
   ]
  },
  {
   "cell_type": "code",
   "execution_count": 6,
   "metadata": {},
   "outputs": [],
   "source": [
    "def DecimalHtoHMS(decimal_hour):\n",
    "    import numpy as np\n",
    "    \n",
    "    hour = np.floor(decimal_hour)\n",
    "    diff = decimal_hour - hour\n",
    "    diff = diff*60\n",
    "    minute = np.floor(diff) \n",
    "    diff -= minute\n",
    "    second = diff*60\n",
    "        \n",
    "    return str(np.int(hour)) +'hr' + str(np.int(minute)) + 'm' + str(np.int(second)) + 's'"
   ]
  },
  {
   "cell_type": "code",
   "execution_count": null,
   "metadata": {},
   "outputs": [],
   "source": []
  }
 ],
 "metadata": {
  "kernelspec": {
   "display_name": "Python 3",
   "language": "python",
   "name": "python3"
  },
  "language_info": {
   "codemirror_mode": {
    "name": "ipython",
    "version": 3
   },
   "file_extension": ".py",
   "mimetype": "text/x-python",
   "name": "python",
   "nbconvert_exporter": "python",
   "pygments_lexer": "ipython3",
   "version": "3.6.5"
  }
 },
 "nbformat": 4,
 "nbformat_minor": 2
}
